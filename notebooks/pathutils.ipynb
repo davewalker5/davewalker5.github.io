{
 "cells": [
  {
   "cell_type": "code",
   "execution_count": null,
   "id": "511255e5",
   "metadata": {},
   "outputs": [],
   "source": [
    "import os, json, urllib.request, ipykernel\n",
    "\n",
    "# Try importing for both Jupyter 6.x and 7.x+\n",
    "try:\n",
    "    from notebook import notebookapp as serverapp\n",
    "except ImportError:\n",
    "    from jupyter_server import serverapp\n",
    "\n",
    "def get_notebook_dir():\n",
    "    # Try Jupyter server method (interactive sessions)\n",
    "    cf = os.path.basename(ipykernel.get_connection_file())\n",
    "    kid = cf.split('-', 1)[1].split('.')[0]\n",
    "    for s in serverapp.list_running_servers():\n",
    "        try:\n",
    "            with urllib.request.urlopen(s['url'] + 'api/sessions') as resp:\n",
    "                for sess in json.load(resp):\n",
    "                    if sess['kernel']['id'] == kid:\n",
    "                        return os.path.dirname(os.path.join(s['notebook_dir'], sess['notebook']['path']))\n",
    "        except Exception:\n",
    "            pass\n",
    "\n",
    "    # Fallback - just return CWD\n",
    "    return os.getcwd()\n"
   ]
  },
  {
   "cell_type": "code",
   "execution_count": null,
   "id": "d0064011",
   "metadata": {},
   "outputs": [],
   "source": [
    "from pathlib import Path\n",
    "import os\n",
    "\n",
    "TRUNCATE_AFTER = \"davewalker5.github.io\"\n",
    "\n",
    "def get_project_root_folder():\n",
    "    # If we're running from the command line, the project root path will be set\n",
    "    path = os.environ[\"PROJECT_ROOT\"] if \"PROJECT_ROOT\" in os.environ else None\n",
    "    if path and os.path.exists(path):\n",
    "        return path\n",
    "\n",
    "    # Get the notebook folder and create a Path object from it\n",
    "    notebook_folder = get_notebook_dir()\n",
    "    path = Path(notebook_folder)\n",
    "\n",
    "    # Find the part up to and including the final element after which we truncate\n",
    "    for parent in path.parents:\n",
    "        if parent.name == TRUNCATE_AFTER:\n",
    "            return parent\n",
    "\n",
    "    # Fallback - just return CWD\n",
    "    return os.getcwd()\n",
    "\n"
   ]
  },
  {
   "cell_type": "code",
   "execution_count": null,
   "id": "70cdaba6",
   "metadata": {},
   "outputs": [],
   "source": [
    "from pathlib import Path\n",
    "\n",
    "def get_data_folder_path():\n",
    "    # Construct the path to the export folder and create it\n",
    "    project_root = get_project_root_folder()\n",
    "    data_folder_path = Path(f\"{project_root}/_data\")\n",
    "    data_folder_path.mkdir(parents=True, exist_ok=True)\n",
    "\n",
    "    # Return the path to the folder\n",
    "    return data_folder_path.absolute()"
   ]
  },
  {
   "cell_type": "code",
   "execution_count": null,
   "id": "72dc1ad3",
   "metadata": {},
   "outputs": [],
   "source": [
    "import re\n",
    "\n",
    "def clean_string(string):\n",
    "    return re.sub(\"[^0-9a-zA-Z ]+\", \"\", string).replace(\" \", \"-\")"
   ]
  }
 ],
 "metadata": {
  "language_info": {
   "name": "python"
  }
 },
 "nbformat": 4,
 "nbformat_minor": 5
}
