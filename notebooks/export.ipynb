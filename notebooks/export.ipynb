{
 "cells": [
  {
   "cell_type": "code",
   "execution_count": null,
   "id": "4357ff93",
   "metadata": {},
   "outputs": [],
   "source": [
    "import pandas as pd\n",
    "from pathlib import Path\n",
    "\n",
    "def export_to_spreadsheet(export_folder_path, filename, data):\n",
    "    # Create the full path to the export file\n",
    "    export_file_path = Path(export_folder_path) / filename\n",
    "\n",
    "    # Create the spreadsheet\n",
    "    with pd.ExcelWriter(export_file_path.absolute(), engine=\"openpyxl\") as writer:\n",
    "        # The input is a dictionary of data frames - the key is the required name of the worksheet in the\n",
    "        # final spreadsheet and the value is the data to be written to that sheet\n",
    "        for key, value in data.items():\n",
    "            if value is not None:\n",
    "                value.to_excel(writer, sheet_name=key, index=True)"
   ]
  },
  {
   "cell_type": "code",
   "execution_count": null,
   "id": "137e8a1c",
   "metadata": {},
   "outputs": [],
   "source": [
    "import pandas as pd\n",
    "from pathlib import Path\n",
    "\n",
    "def export_to_csv(export_folder_path, filename, data):\n",
    "    # Create the full path to the export file\n",
    "    export_file_path = Path(export_folder_path) / filename\n",
    "\n",
    "    # Create the CSV file\n",
    "    data.to_csv(export_file_path.absolute(), index=False)"
   ]
  },
  {
   "cell_type": "code",
   "execution_count": null,
   "id": "382e62a7",
   "metadata": {},
   "outputs": [],
   "source": [
    "import matplotlib.pyplot as plt\n",
    "\n",
    "def export_chart(export_folder_path, name, extension):\n",
    "    # Check the format is supported\n",
    "    format = extension.casefold()\n",
    "    if extension.casefold() in [\"png\", \"pdf\"]:\n",
    "        # Get the name of the export file and construct a full export file path\n",
    "        chart_file_name = f\"{name}.{extension}\"\n",
    "        chart_file_path = Path(export_folder_path) / Path(chart_file_name)\n",
    "\n",
    "        # Export the chart\n",
    "        plt.savefig(chart_file_path.absolute(), format=format, dpi=300, bbox_inches=\"tight\")\n"
   ]
  }
 ],
 "metadata": {
  "language_info": {
   "name": "python"
  }
 },
 "nbformat": 4,
 "nbformat_minor": 5
}
