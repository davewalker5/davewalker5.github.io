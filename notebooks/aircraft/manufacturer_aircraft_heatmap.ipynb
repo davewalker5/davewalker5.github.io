{
 "cells": [
  {
   "attachments": {},
   "cell_type": "markdown",
   "id": "f884b3da",
   "metadata": {},
   "source": [
    "# Manufacturer / Aircraft Type Heatmap\n",
    "\n",
    "This notebook produces a heatmap of manufacturers by aicraft models.\n",
    "\n",
    "Individual models within a family are grouped:\n",
    "\n",
    "- e.g. Both A320-214 and A320-232 will appear under the \"A320\" family\n",
    "- Aircraft with fewer sightings than the configured threshold are assigned to the \"Other\" family"
   ]
  },
  {
   "cell_type": "code",
   "execution_count": 5,
   "id": "7e67db7c",
   "metadata": {},
   "outputs": [],
   "source": [
    "%run ../pathutils.ipynb\n",
    "%run ../definitions.ipynb\n",
    "%run ../database.ipynb\n",
    "%run ../export.ipynb\n",
    "%run utils.ipynb"
   ]
  },
  {
   "cell_type": "code",
   "execution_count": 6,
   "id": "2cd4e27a",
   "metadata": {},
   "outputs": [],
   "source": [
    "# Sightings threshold below which aircraft are assigned to a generic \"Other\" group\n",
    "prefix_count_threshold = 100"
   ]
  },
  {
   "cell_type": "code",
   "execution_count": 7,
   "id": "7ed39d14",
   "metadata": {},
   "outputs": [],
   "source": [
    "import matplotlib.pyplot as plt\n",
    "import seaborn as sns\n",
    "\n",
    "def export_heatmap(export_folder_path, data):\n",
    "    # Plot the heatmap\n",
    "    fig = plt.figure(figsize=(12, data.shape[0] / 3))\n",
    "    sns.heatmap(data, annot=False, fmt=\"d\", cmap=\"YlOrRd\")\n",
    "    plt.title(\"Aircraft Sightings by Manufacturer and Group (Auto-Generated)\")\n",
    "    plt.ylabel(\"Manufacturer\")\n",
    "    plt.xlabel(\"Aircraft Group\")\n",
    "    plt.xticks(rotation=90)\n",
    "    plt.tight_layout()\n",
    "\n",
    "    # Export the chart\n",
    "    export_chart(export_folder_path, \"manufacturer-aircraft-heatmap\", \"png\")\n",
    "\n",
    "    # Close the figure\n",
    "    plt.close(fig)"
   ]
  },
  {
   "cell_type": "code",
   "execution_count": 8,
   "id": "db1cb3b7",
   "metadata": {},
   "outputs": [],
   "source": [
    "# Construct the query\n",
    "query = construct_query(\"aircraft\", \"sightings.sql\", {})\n",
    "\n",
    "try:\n",
    "    # Run the query to load the data - this raises a ValueError if there's no data\n",
    "    df = query_data(\"aircraft\", query)\n",
    "\n",
    "    # Extract an aircraft type prefix for each sighting\n",
    "    df[\"Type\"] = df[\"Model\"].apply(extract_prefix)\n",
    "\n",
    "    # Identify counts by prefix and use them to identify common prefixes\n",
    "    prefix_counts = df[\"Type\"].value_counts()\n",
    "    common_prefixes = prefix_counts[prefix_counts >= prefix_count_threshold].index\n",
    "\n",
    "    # Replace uncommon prefixes with \"Other\"\n",
    "    df[\"Type\"] = df.apply(\n",
    "        lambda row: row[\"Type\"] if row[\"Type\"] in common_prefixes else \"Other\",\n",
    "        axis=1\n",
    "    )\n",
    "\n",
    "    # Generate the pivot table to act as the source data\n",
    "    pivot_table = df.pivot_table(\n",
    "        index=\"Manufacturer\",\n",
    "        columns=\"Type\",\n",
    "        values=\"Id\",\n",
    "        aggfunc=\"count\",\n",
    "        fill_value=0\n",
    "    )\n",
    "\n",
    "    # Export the data to excel\n",
    "    export_folder_path = get_export_folder_path()\n",
    "    export_to_spreadsheet(export_folder_path, \"manufacturer-aircraft-heatmap.xlsx\", { \"Pivot Table\": pivot_table })\n",
    "\n",
    "    # Export the heatmap\n",
    "    export_heatmap(export_folder_path, pivot_table)\n",
    "\n",
    "except ValueError:\n",
    "    print(f\"WARNING: No data found\")"
   ]
  }
 ],
 "metadata": {
  "kernelspec": {
   "display_name": "venv (3.13.5)",
   "language": "python",
   "name": "python3"
  },
  "language_info": {
   "codemirror_mode": {
    "name": "ipython",
    "version": 3
   },
   "file_extension": ".py",
   "mimetype": "text/x-python",
   "name": "python",
   "nbconvert_exporter": "python",
   "pygments_lexer": "ipython3",
   "version": "3.13.5"
  }
 },
 "nbformat": 4,
 "nbformat_minor": 5
}
