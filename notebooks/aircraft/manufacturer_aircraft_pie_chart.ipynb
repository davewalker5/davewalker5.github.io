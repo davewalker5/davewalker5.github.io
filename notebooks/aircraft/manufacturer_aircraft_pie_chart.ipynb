{
 "cells": [
  {
   "attachments": {},
   "cell_type": "markdown",
   "id": "f884b3da",
   "metadata": {},
   "source": [
    "# Manufacturer / Aircraft Type Pie Chart\n",
    "\n",
    "This notebook produces a pie chart of aicraft models for a given manufacturer.\n",
    "\n",
    "Individual models within a family are grouped:\n",
    "\n",
    "- e.g. Both A320-214 and A320-232 will appear under the \"A320\" family\n",
    "- Aircraft with fewer sightings than the configured threshold are assigned to the \"Other\" family"
   ]
  },
  {
   "cell_type": "code",
   "execution_count": null,
   "id": "d9ae2139",
   "metadata": {},
   "outputs": [],
   "source": [
    "%run ../pathutils.ipynb\n",
    "%run ../definitions.ipynb\n",
    "%run ../database.ipynb\n",
    "%run ../export.ipynb\n",
    "%run utils.ipynb\n",
    "%run database.ipynb"
   ]
  },
  {
   "cell_type": "code",
   "execution_count": null,
   "id": "2cd4e27a",
   "metadata": {},
   "outputs": [],
   "source": [
    "# Sightings threshold below which aircraft are assigned to a generic \"Other\" group. When set to 1, no models will be assigned to the \"other\" group\n",
    "prefix_count_threshold = 1"
   ]
  },
  {
   "cell_type": "code",
   "execution_count": null,
   "id": "7dee9f2e",
   "metadata": {},
   "outputs": [],
   "source": [
    "import matplotlib.pyplot as plt\n",
    "\n",
    "def export_pie_chart(export_folder_path, data, manufacturer):\n",
    "    # Calculate the % of each aircraft type\n",
    "    group_counts = data[\"Type\"].value_counts()\n",
    "    group_percent = group_counts / group_counts.sum() * 100\n",
    "\n",
    "    # Create a new figure\n",
    "    fig, ax = plt.subplots(figsize=(6, 8))\n",
    "\n",
    "    # Draw pie chart\n",
    "    wedges, _ = ax.pie(\n",
    "        group_percent,\n",
    "        startangle=90,\n",
    "        wedgeprops=dict(width=0.5),\n",
    "        labels=None,\n",
    "        counterclock=False\n",
    "    )\n",
    "\n",
    "    # Format legend labels as Type (XX.X%)\"\n",
    "    legend_labels = [f\"{grp} ({pct:.1f}%)\" for grp, pct in zip(group_percent.index, group_percent.values)]\n",
    "\n",
    "    # Add a legend below the chart\n",
    "    ax.legend(\n",
    "        wedges,\n",
    "        legend_labels,\n",
    "        title=\"Aircraft Groups\",\n",
    "        loc='lower center',\n",
    "        bbox_to_anchor=(0.5, -0.2),\n",
    "        ncol=2,\n",
    "        fontsize=8\n",
    "    )\n",
    "\n",
    "    # Set the title\n",
    "    plt.title(f\"{manufacturer} Aircraft Sightings by Group\")\n",
    "    plt.tight_layout()\n",
    "\n",
    "    # Export the chart\n",
    "    export_chart(export_folder_path, f\"aircraft-type-pie-chart\", \"png\")\n",
    "\n",
    "    # Close the plot\n",
    "    plt.close(fig)\n"
   ]
  },
  {
   "cell_type": "code",
   "execution_count": null,
   "id": "db1cb3b7",
   "metadata": {},
   "outputs": [],
   "source": [
    "# Query the data for a list of manufacturers\n",
    "manufacturers = load_manufacturers()\n",
    "\n",
    "# Generate a pie chart for each one\n",
    "for manufacturer in manufacturers:\n",
    "    # Construct the query\n",
    "    query = construct_query(\"aircraft\", \"manufacturer_sightings.sql\", { \"MANUFACTURER\": manufacturer })\n",
    "\n",
    "    try:\n",
    "        # Run the query to load the data - this raises a ValueError if there's no data\n",
    "        df = query_data(\"aircraft\", query)\n",
    "\n",
    "        # Extract an aircraft type prefix for each sighting\n",
    "        df[\"Type\"] = df[\"Model\"].apply(extract_prefix)\n",
    "\n",
    "        # Identify counts by prefix and use them to identify common prefixes\n",
    "        prefix_counts = df[\"Type\"].value_counts()\n",
    "        common_prefixes = prefix_counts[prefix_counts >= prefix_count_threshold].index\n",
    "\n",
    "        # Replace uncommon prefixes with \"Other\"\n",
    "        df[\"Type\"] = df.apply(\n",
    "            lambda row: row[\"Type\"] if row[\"Type\"] in common_prefixes else \"Other\",\n",
    "            axis=1\n",
    "        )\n",
    "\n",
    "        # Export the data to excel\n",
    "        export_folder_path = get_manufacturer_export_folder_path(manufacturer)\n",
    "        export_to_spreadsheet(export_folder_path, \"aircraft-type-pie-chart.xlsx\", { \"Sightings Data\": df })\n",
    "\n",
    "        # Export the charts\n",
    "        export_pie_chart(export_folder_path, df, manufacturer)\n",
    "\n",
    "    except ValueError:\n",
    "        print(f\"WARNING: No data found for manufacturer {manufacturer}\")"
   ]
  }
 ],
 "metadata": {
  "kernelspec": {
   "display_name": "venv (3.13.5)",
   "language": "python",
   "name": "python3"
  },
  "language_info": {
   "codemirror_mode": {
    "name": "ipython",
    "version": 3
   },
   "file_extension": ".py",
   "mimetype": "text/x-python",
   "name": "python",
   "nbconvert_exporter": "python",
   "pygments_lexer": "ipython3",
   "version": "3.13.5"
  }
 },
 "nbformat": 4,
 "nbformat_minor": 5
}
