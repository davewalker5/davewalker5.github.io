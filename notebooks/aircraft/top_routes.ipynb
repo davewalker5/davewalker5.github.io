{
 "cells": [
  {
   "attachments": {},
   "cell_type": "markdown",
   "metadata": {},
   "source": [
    "# Top Routes\n",
    "\n",
    "This notebook calculates and exports bar charts of:\n",
    "\n",
    "- Top routes (unidirectional) over all time\n",
    "- Top routes (bidirectional) over all time\n",
    "\n",
    "In the unidirectional chart, LHR-JFK and JFK-LHR are distinct whereas in the bidirectional chart they are the same route."
   ]
  },
  {
   "cell_type": "code",
   "execution_count": 1,
   "metadata": {},
   "outputs": [],
   "source": [
    "%run ../pathutils.ipynb\n",
    "%run ../definitions.ipynb\n",
    "%run ../database.ipynb\n",
    "%run ../export.ipynb\n",
    "%run utils.ipynb"
   ]
  },
  {
   "cell_type": "code",
   "execution_count": 2,
   "metadata": {},
   "outputs": [],
   "source": [
    "# Top \"N\" routes to include\n",
    "top_n = 20"
   ]
  },
  {
   "cell_type": "code",
   "execution_count": 3,
   "metadata": {},
   "outputs": [],
   "source": [
    "import matplotlib.pyplot as plt\n",
    "import seaborn as sns\n",
    "\n",
    "def export_unidirectional_chart(export_folder_path, data):\n",
    "    # Generate the unidirectional bar chart\n",
    "    fig = plt.figure(figsize=(12, 6))\n",
    "    sns.barplot(data=data.head(top_n), x=\"Sightings\", y=\"Route\", palette=\"YlOrRd\", hue=\"Route\")\n",
    "    plt.title(f\"Top {top_n} Most Common Aircraft Routes (Unidirectional)\")\n",
    "    plt.xlabel(\"Number of Sightings\")\n",
    "    plt.ylabel(\"Route\")\n",
    "    plt.tight_layout()\n",
    "\n",
    "    # Export the chart\n",
    "    export_chart(export_folder_path, f\"top-routes-unidirectional\", \"png\")\n",
    "\n",
    "    # Close the plot\n",
    "    plt.close(fig)\n"
   ]
  },
  {
   "cell_type": "code",
   "execution_count": 4,
   "metadata": {},
   "outputs": [],
   "source": [
    "import matplotlib.pyplot as plt\n",
    "import seaborn as sns\n",
    "\n",
    "def export_bidirectional_chart(export_folder_path, data):\n",
    "    # Generate the bidirectional bar chart\n",
    "    fig = plt.figure(figsize=(12, 6))\n",
    "    sns.barplot(data=normalised_counts.head(top_n), x=\"Sightings\", y=\"Normalised_Route\", palette=\"YlOrRd\", hue=\"Normalised_Route\")\n",
    "    plt.title(f\"Top {top_n} Most Common Aircraft Routes (Bidirectional)\")\n",
    "    plt.xlabel(\"Number of Sightings\")\n",
    "    plt.ylabel(\"Route\")\n",
    "    plt.tight_layout()\n",
    "\n",
    "    # Export the chart\n",
    "    export_chart(export_folder_path, f\"top-routes-bidirectional\", \"png\")\n",
    "\n",
    "    # Close the plot\n",
    "    plt.close(fig)\n"
   ]
  },
  {
   "cell_type": "code",
   "execution_count": null,
   "metadata": {},
   "outputs": [],
   "source": [
    "import pandas as pd\n",
    "import warnings\n",
    "\n",
    "# Construct the query\n",
    "query = construct_query(\"aircraft\", \"sightings.sql\", {})\n",
    "\n",
    "try:\n",
    "    # Run the query to load the data - this raises a ValueError if there's no data\n",
    "    df = query_data(\"aircraft\", query)\n",
    "\n",
    "    # Remove entries where either the point of embarkation or destination aren\"t available\n",
    "    warnings.simplefilter(action='ignore', category=pd.errors.SettingWithCopyWarning)\n",
    "    df_cleaned = df[(df[\"Embarkation\"] != \"N/A\") & (df[\"Destination\"] != \"N/A\")]\n",
    "\n",
    "    # Combine embarkation and destination into a single route column\n",
    "    df_cleaned[\"Route\"] = df_cleaned[\"Embarkation\"].str.strip() + \"-\" + df_cleaned[\"Destination\"].str.strip()\n",
    "\n",
    "    # Count unidirectional routes. In this scheme, LHR-JFK is different from JFK-LHR\n",
    "    route_counts = df_cleaned[\"Route\"].value_counts().reset_index()\n",
    "    route_counts.columns = [\"Route\", \"Sightings\"]\n",
    "\n",
    "    # Define a function to normalise a route\n",
    "    def normalize_route(row):\n",
    "        airports = sorted([row[\"Embarkation\"].strip(), row[\"Destination\"].strip()])\n",
    "        return f\"{airports[0]}-{airports[1]}\"\n",
    "\n",
    "    # Use it to add a normalised route column to the data\n",
    "    df_cleaned[\"Normalised_Route\"] = df_cleaned.apply(normalize_route, axis=1)\n",
    "\n",
    "    # Count normalized route frequencies\n",
    "    normalised_counts = df_cleaned[\"Normalised_Route\"].value_counts().reset_index()\n",
    "    normalised_counts.columns = [\"Normalised_Route\", \"Sightings\"]\n",
    "\n",
    "    # Export the data to excel\n",
    "    export_folder_path = get_export_folder_path()\n",
    "    export_to_spreadsheet(export_folder_path, \"top-routes-unidirectional.xlsx\", {\n",
    "        \"Unidirectional\": route_counts\n",
    "    })\n",
    "    export_to_spreadsheet(export_folder_path, \"top-routes-bidirectional.xlsx\", {\n",
    "        \"Bidirectional\": normalised_counts,\n",
    "    })\n",
    "\n",
    "    # Export the charts\n",
    "    export_unidirectional_chart(export_folder_path, route_counts)\n",
    "    export_bidirectional_chart(export_folder_path, normalised_counts)\n",
    "\n",
    "except ValueError:\n",
    "    print(f\"WARNING: No data found\")"
   ]
  }
 ],
 "metadata": {
  "kernelspec": {
   "display_name": "venv (3.13.5)",
   "language": "python",
   "name": "python3"
  },
  "language_info": {
   "codemirror_mode": {
    "name": "ipython",
    "version": 3
   },
   "file_extension": ".py",
   "mimetype": "text/x-python",
   "name": "python",
   "nbconvert_exporter": "python",
   "pygments_lexer": "ipython3",
   "version": "3.13.5"
  },
  "orig_nbformat": 4
 },
 "nbformat": 4,
 "nbformat_minor": 2
}
