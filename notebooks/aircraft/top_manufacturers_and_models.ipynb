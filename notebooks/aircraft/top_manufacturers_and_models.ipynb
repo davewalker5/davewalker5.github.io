{
 "cells": [
  {
   "attachments": {},
   "cell_type": "markdown",
   "metadata": {},
   "source": [
    "# Top Manufacturers and Aircraft Types Over Time\n",
    "\n",
    "This notebook calculates and exports pie charts of:\n",
    "\n",
    "- Top manufacturers over all time\n",
    "- Top aircraft types over all time"
   ]
  },
  {
   "cell_type": "code",
   "execution_count": 1,
   "metadata": {},
   "outputs": [],
   "source": [
    "%run ../pathutils.ipynb\n",
    "%run ../definitions.ipynb\n",
    "%run ../database.ipynb\n",
    "%run ../export.ipynb\n",
    "%run utils.ipynb"
   ]
  },
  {
   "cell_type": "code",
   "execution_count": 2,
   "metadata": {},
   "outputs": [],
   "source": [
    "# Top \"N\" manufacturers and aircraft types to include\n",
    "top_n_manufacturers = 10\n",
    "top_n_models = 10"
   ]
  },
  {
   "cell_type": "code",
   "execution_count": 3,
   "metadata": {},
   "outputs": [],
   "source": [
    "import matplotlib.pyplot as plt\n",
    "\n",
    "def export_manufacturer_counts_chart(export_folder_path, data):\n",
    "    # Create labels for the legend\n",
    "    labels = data.index\n",
    "    sizes = data.values\n",
    "    total = sizes.sum()\n",
    "    legend_labels = [f\"{label} ({size / total:.1%})\" for label, size in zip(labels, sizes)]\n",
    "\n",
    "    # Create figure and axis\n",
    "    fig, ax = plt.subplots(figsize=(8, 8))\n",
    "\n",
    "    # Plot pie chart without labels\n",
    "    wedges, texts = ax.pie(sizes, startangle=140)\n",
    "\n",
    "    # Add title\n",
    "    ax.set_title(f\"Top {top_n_manufacturers} Aircraft Manufacturers\")\n",
    "\n",
    "    # Add legend below the chart\n",
    "    ax.legend(\n",
    "        wedges,\n",
    "        legend_labels,\n",
    "        title=\"Manufacturers\",\n",
    "        loc=\"lower center\",\n",
    "        bbox_to_anchor=(0.5, -0.15),\n",
    "        ncol=2,  # Change number of columns to fit nicely\n",
    "        frameon=False\n",
    "    )\n",
    "\n",
    "    plt.tight_layout()\n",
    "\n",
    "    # Export the chart\n",
    "    export_chart(export_folder_path, f\"top-manufacturers-over-time\", \"png\")\n",
    "\n",
    "    # Close the plot\n",
    "    plt.close(fig)"
   ]
  },
  {
   "cell_type": "code",
   "execution_count": 4,
   "metadata": {},
   "outputs": [],
   "source": [
    "import matplotlib.pyplot as plt\n",
    "\n",
    "def export_aircraft_model_counts_chart(export_folder_path, data):\n",
    "    # Create labels for the legend\n",
    "    labels = data.index\n",
    "    sizes = data.values\n",
    "    total = sizes.sum()\n",
    "    legend_labels = [f\"{label} ({size / total:.1%})\" for label, size in zip(labels, sizes)]\n",
    "\n",
    "    # Plot pie chart without labels\n",
    "    fig, ax = plt.subplots(figsize=(8, 8))\n",
    "    wedges, texts = ax.pie(sizes, startangle=140)\n",
    "\n",
    "    # Set the title\n",
    "    ax.set_title(f\"Top {top_n_models} Aircraft Models\")\n",
    "\n",
    "    # Create the legend\n",
    "    ax.legend(\n",
    "        wedges,\n",
    "        legend_labels,\n",
    "        title=\"Aircraft Types\",\n",
    "        loc=\"lower center\",\n",
    "        bbox_to_anchor=(0.5, -0.15),\n",
    "        ncol=2,\n",
    "        frameon=False\n",
    "    )\n",
    "\n",
    "    plt.tight_layout()\n",
    "\n",
    "    # Export the chart\n",
    "    export_chart(export_folder_path, f\"top-aircraft-models-over-time\", \"png\")\n",
    "\n",
    "    # Close the plot\n",
    "    plt.close(fig)"
   ]
  },
  {
   "cell_type": "code",
   "execution_count": null,
   "metadata": {},
   "outputs": [],
   "source": [
    "# Construct the query\n",
    "query = construct_query(\"aircraft\", \"sightings.sql\", {})\n",
    "\n",
    "try:\n",
    "    # Run the query to load the data - this raises a ValueError if there's no data\n",
    "    df = query_data(\"aircraft\", query)\n",
    "\n",
    "    # Calculate the manufacturer and model counts\n",
    "    manufacturer_counts = df[\"Manufacturer\"].value_counts().nlargest(top_n_manufacturers)\n",
    "    model_counts = df[\"Model\"].value_counts().nlargest(top_n_models)\n",
    "\n",
    "    # Export the data to excel\n",
    "    export_folder_path = get_export_folder_path()\n",
    "    export_to_spreadsheet(export_folder_path, \"top-manufacturers-over-time.xlsx\", {\n",
    "        \"Manufacturers\": manufacturer_counts\n",
    "    })\n",
    "    export_to_spreadsheet(export_folder_path, \"top-aircraft-models-over-time.xlsx\", {\n",
    "        \"Aircraft Models\": model_counts,\n",
    "    })\n",
    "\n",
    "    # Export the charts\n",
    "    export_manufacturer_counts_chart(export_folder_path, manufacturer_counts)\n",
    "    export_aircraft_model_counts_chart(export_folder_path, model_counts)\n",
    "\n",
    "except ValueError:\n",
    "    print(f\"WARNING: No data found\")"
   ]
  }
 ],
 "metadata": {
  "kernelspec": {
   "display_name": "venv (3.13.5)",
   "language": "python",
   "name": "python3"
  },
  "language_info": {
   "codemirror_mode": {
    "name": "ipython",
    "version": 3
   },
   "file_extension": ".py",
   "mimetype": "text/x-python",
   "name": "python",
   "nbconvert_exporter": "python",
   "pygments_lexer": "ipython3",
   "version": "3.13.5"
  },
  "orig_nbformat": 4
 },
 "nbformat": 4,
 "nbformat_minor": 2
}
