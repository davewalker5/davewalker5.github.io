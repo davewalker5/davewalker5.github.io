{
 "cells": [
  {
   "attachments": {},
   "cell_type": "markdown",
   "metadata": {},
   "source": [
    "# Aircraft Sightings Over Time\n",
    "\n",
    "This notebook calculates and exports:\n",
    "\n",
    "- Daily and daily rolling average aircraft sightings over time\n",
    "- Monthly sightings over time\n",
    "- Yearly sightings over time"
   ]
  },
  {
   "cell_type": "code",
   "execution_count": 7,
   "metadata": {},
   "outputs": [],
   "source": [
    "%run ../pathutils.ipynb\n",
    "%run ../definitions.ipynb\n",
    "%run ../database.ipynb\n",
    "%run ../export.ipynb\n",
    "%run utils.ipynb"
   ]
  },
  {
   "cell_type": "code",
   "execution_count": 8,
   "metadata": {},
   "outputs": [],
   "source": [
    "# Window for daily rolling average calculation\n",
    "window = 7"
   ]
  },
  {
   "cell_type": "code",
   "execution_count": 9,
   "metadata": {},
   "outputs": [],
   "source": [
    "import matplotlib.pyplot as plt\n",
    "\n",
    "def export_daily_chart(export_folder_path, daily, daily_rolling):\n",
    "    # Plot the daily statistics\n",
    "    fig = plt.figure(figsize=(14, 5))\n",
    "    plt.plot(daily.index, daily.values, label=\"Daily Sightings\", alpha=0.5)\n",
    "    plt.plot(daily_rolling.index, daily_rolling.values, label=f\"{window}-Day Rolling Average\", color='red')\n",
    "    plt.title(f\"Aircraft Sightings by Day with {window}-Day Rolling Average\")\n",
    "    plt.xlabel(\"Date\")\n",
    "    plt.ylabel(\"Number of Sightings\")\n",
    "    plt.legend()\n",
    "    plt.tight_layout()\n",
    "\n",
    "    # Export the chart\n",
    "    export_chart(export_folder_path, f\"sightings-over-time-daily\", \"png\")\n",
    "\n",
    "    # Close the plot\n",
    "    plt.close(fig)"
   ]
  },
  {
   "cell_type": "code",
   "execution_count": 10,
   "metadata": {},
   "outputs": [],
   "source": [
    "import matplotlib.pyplot as plt\n",
    "import numpy as np\n",
    "from scipy.stats import linregress\n",
    "\n",
    "def export_monthly_chart(export_folder_path, data):\n",
    "    # The monthly data index has been converted to a timestamp, above, for export\n",
    "    x = np.arange(len(data.index))  # numerical x-axis for regression\n",
    "    y = data.values\n",
    "\n",
    "    # Calculate the monthly trend line\n",
    "    slope, intercept, r_value, p_value, std_err = linregress(x, y)\n",
    "    trend = slope * x + intercept\n",
    "\n",
    "    # Plot sightings by month\n",
    "    fig = plt.figure(figsize=(14, 5))\n",
    "    plt.bar(data.index, y, width=20, label=\"Monthly Sightings\", color=\"cornflowerblue\")\n",
    "    plt.plot(data.index, trend, label=\"Trend Line\", linestyle=\"--\", color=\"red\")\n",
    "    plt.title(\"Aircraft Sightings by Month\")\n",
    "    plt.xlabel(\"Month\")\n",
    "    plt.ylabel(\"Number of Sightings\")\n",
    "    plt.legend()\n",
    "    plt.tight_layout()\n",
    "\n",
    "    # Export the chart\n",
    "    export_chart(export_folder_path, f\"sightings-over-time-monthly\", \"png\")\n",
    "\n",
    "    # Close the plot\n",
    "    plt.close(fig)"
   ]
  },
  {
   "cell_type": "code",
   "execution_count": 11,
   "metadata": {},
   "outputs": [],
   "source": [
    "import matplotlib.pyplot as plt\n",
    "\n",
    "def export_yearly_chart(export_folder_path, data):\n",
    "    # Plot Sightings by Year with Trend Line\n",
    "    x = data.index.values\n",
    "    y = data.values\n",
    "    slope, intercept, _, _, _ = linregress(x, y)\n",
    "\n",
    "    fig = plt.figure(figsize=(10, 5))\n",
    "    plt.bar(x, y, color=\"steelblue\", width=0.6, label=\"Yearly Sightings\")\n",
    "    plt.plot(x, slope * x + intercept, color=\"red\", linestyle=\"--\", label=\"Trend Line\")\n",
    "    plt.title(\"Aircraft Sightings by Year\")\n",
    "    plt.xlabel(\"Year\")\n",
    "    plt.ylabel(\"Number of Sightings\")\n",
    "    plt.legend()\n",
    "    plt.tight_layout()\n",
    "\n",
    "    # Export the chart\n",
    "    export_chart(export_folder_path, f\"sightings-over-time-yearly\", \"png\")\n",
    "\n",
    "    # Close the plot\n",
    "    plt.close(fig)"
   ]
  },
  {
   "cell_type": "code",
   "execution_count": null,
   "metadata": {},
   "outputs": [],
   "source": [
    "# Construct the query\n",
    "query = construct_query(\"aircraft\", \"sightings.sql\", {})\n",
    "\n",
    "try:\n",
    "    # Run the query to load the data - this raises a ValueError if there's no data\n",
    "    df = query_data(\"aircraft\", query)\n",
    "\n",
    "    # Aggregate sightings\n",
    "    daily = df.groupby(df[\"Date\"].dt.date).size().rename(\"Sightings\")\n",
    "    monthly = df.groupby(df[\"Date\"].dt.to_period(\"M\")).size().rename(\"Sightings\")\n",
    "    yearly = df.groupby(df[\"Date\"].dt.year).size().rename(\"Sightings\")\n",
    "\n",
    "    # Calculate a roling average for the daily data\n",
    "    daily_rolling = daily.rolling(window=window).mean()\n",
    "\n",
    "    # Convert the monthly PeriodIndex to Timestamp\n",
    "    monthly.index = monthly.index.to_timestamp()\n",
    "\n",
    "    # Export the data to excel\n",
    "    export_folder_path = get_export_folder_path()\n",
    "    export_to_spreadsheet(export_folder_path, \"sightings-over-time-daily.xlsx\", {\n",
    "        \"Daily\": daily.to_frame(name=\"Sightings\"),\n",
    "        \"Daily Rolling Average\": daily_rolling.to_frame(name=\"Sightings\")\n",
    "    })\n",
    "    export_to_spreadsheet(export_folder_path, \"sightings-over-time-monthly.xlsx\", {\n",
    "        \"Monthly\": monthly.to_frame(name=\"Sightings\")\n",
    "    })\n",
    "    export_to_spreadsheet(export_folder_path, \"sightings-over-time-yearly.xlsx\", {\n",
    "        \"Yearly\": yearly.to_frame(name=\"Sightings\")\n",
    "    })\n",
    "\n",
    "    # Export the charts\n",
    "    export_daily_chart(export_folder_path, daily, daily_rolling)\n",
    "    export_monthly_chart(export_folder_path, monthly)\n",
    "    export_yearly_chart(export_folder_path, yearly)\n",
    "\n",
    "except ValueError:\n",
    "    print(f\"WARNING: No data found\")"
   ]
  }
 ],
 "metadata": {
  "kernelspec": {
   "display_name": "venv (3.13.5)",
   "language": "python",
   "name": "python3"
  },
  "language_info": {
   "codemirror_mode": {
    "name": "ipython",
    "version": 3
   },
   "file_extension": ".py",
   "mimetype": "text/x-python",
   "name": "python",
   "nbconvert_exporter": "python",
   "pygments_lexer": "ipython3",
   "version": "3.13.5"
  },
  "orig_nbformat": 4
 },
 "nbformat": 4,
 "nbformat_minor": 2
}
