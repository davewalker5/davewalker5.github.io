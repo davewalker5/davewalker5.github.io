{
 "cells": [
  {
   "cell_type": "markdown",
   "id": "73b4916d",
   "metadata": {},
   "source": [
    "# Airports List\n",
    "\n",
    "This notebook loads the current list of airports and saves the data as a CSV file"
   ]
  },
  {
   "cell_type": "code",
   "execution_count": 9,
   "id": "edb4c38c",
   "metadata": {},
   "outputs": [],
   "source": [
    "%run ../pathutils.ipynb\n",
    "%run ../database.ipynb\n",
    "%run ../export.ipynb\n",
    "%run database.ipynb"
   ]
  },
  {
   "cell_type": "code",
   "execution_count": 10,
   "id": "dc58d50a",
   "metadata": {},
   "outputs": [],
   "source": [
    "species = load_airports()\n",
    "export_folder_path = get_data_folder_path()\n",
    "export_to_csv(export_folder_path, \"airports.csv\", species)"
   ]
  }
 ],
 "metadata": {
  "kernelspec": {
   "display_name": "venv",
   "language": "python",
   "name": "python3"
  },
  "language_info": {
   "codemirror_mode": {
    "name": "ipython",
    "version": 3
   },
   "file_extension": ".py",
   "mimetype": "text/x-python",
   "name": "python",
   "nbconvert_exporter": "python",
   "pygments_lexer": "ipython3",
   "version": "3.13.6"
  }
 },
 "nbformat": 4,
 "nbformat_minor": 5
}
