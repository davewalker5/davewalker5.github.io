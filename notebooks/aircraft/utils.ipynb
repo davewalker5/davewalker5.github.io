{
 "cells": [
  {
   "cell_type": "code",
   "execution_count": null,
   "id": "60b3c514",
   "metadata": {},
   "outputs": [],
   "source": [
    "import re\n",
    "\n",
    "def extract_prefix(model):\n",
    "    # Try extracting leading letters and digits (e.g., \"A320\", \"B737\")\n",
    "    match = re.match(r\"^([A-Z]+[0-9]+)\", str(model).replace(\" \", \"\").upper())\n",
    "    prefix = match.group(1) if match else None\n",
    "\n",
    "    # If this doesn\"t result in a prefix, try just splitting on the first \"-\"\n",
    "    if not prefix:\n",
    "        tokens = model.split(\"-\", 1)\n",
    "        prefix = tokens[0] if len(tokens) > 1 else None\n",
    "\n",
    "    # On its own, the above can result in some nonsensical prefixes so check we do have some numbers in\n",
    "    # to indicate the model\n",
    "    if prefix and not any(char.isdigit() for char in prefix):\n",
    "        prefix = None\n",
    "\n",
    "    return prefix"
   ]
  },
  {
   "cell_type": "code",
   "execution_count": null,
   "id": "904d9856",
   "metadata": {},
   "outputs": [],
   "source": [
    "from pathlib import Path\n",
    "\n",
    "def get_export_folder_path():\n",
    "    # Construct the path to the export folder and create it\n",
    "    project_root = get_project_root_folder()\n",
    "    export_folder_path = Path(f\"{project_root}/aircraft/reports\")\n",
    "    export_folder_path.mkdir(parents=True, exist_ok=True)\n",
    "\n",
    "    # Return the path to the folder\n",
    "    return export_folder_path.absolute()"
   ]
  },
  {
   "cell_type": "code",
   "execution_count": null,
   "id": "b37502b3",
   "metadata": {},
   "outputs": [],
   "source": [
    "def get_manufacturer_export_folder_path(manufacturer):\n",
    "    # Clean up the properties that will be used in the export folder path\n",
    "    clean_manufacturer = clean_string(manufacturer)\n",
    "\n",
    "    # Get the root export folder and add a sub-folder to it\n",
    "    export_folder_path = get_export_folder_path()\n",
    "    manufacturer_aircraft_export_folder_path = Path(f\"{export_folder_path}/manufacturer/{clean_manufacturer}\")\n",
    "\n",
    "    # Create the folder, if it doesn't exist\n",
    "    manufacturer_aircraft_export_folder_path.mkdir(parents=True, exist_ok=True)\n",
    "\n",
    "    # Return the path to the folder\n",
    "    return manufacturer_aircraft_export_folder_path.absolute()\n"
   ]
  }
 ],
 "metadata": {
  "language_info": {
   "name": "python"
  }
 },
 "nbformat": 4,
 "nbformat_minor": 5
}
