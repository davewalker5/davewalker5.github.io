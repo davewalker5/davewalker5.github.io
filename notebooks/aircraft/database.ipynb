{
 "cells": [
  {
   "cell_type": "code",
   "execution_count": null,
   "id": "fd1b8831",
   "metadata": {},
   "outputs": [],
   "source": [
    "def load_manufacturers():\n",
    "    # Construct the query to load the list of species for the location\n",
    "    query = construct_query(\"aircraft\", \"manufacturers.sql\", {})\n",
    "\n",
    "    # Query the database to get a dataframe containing the manufacturer list\n",
    "    df = query_data(\"aircraft\", query)\n",
    "\n",
    "    # Convert the species colum to a list\n",
    "    manufacturer_list = df[\"Manufacturer\"].tolist()\n",
    "    return manufacturer_list"
   ]
  }
 ],
 "metadata": {
  "language_info": {
   "name": "python"
  }
 },
 "nbformat": 4,
 "nbformat_minor": 5
}
