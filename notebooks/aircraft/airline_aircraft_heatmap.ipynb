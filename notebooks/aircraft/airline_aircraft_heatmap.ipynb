{
 "cells": [
  {
   "attachments": {},
   "cell_type": "markdown",
   "metadata": {},
   "source": [
    "# Airline / Aircraft Type Heatmap\n",
    "\n",
    "This notebook generates a heatmap of sightings by aircraft type by airline for airlines meeting a minimum threshold for number of sightings.\n",
    "\n",
    "Individual models within a family of aircraft are grouped:\n",
    "\n",
    "- e.g. Both A320-214 and A320-232 will appear under the \"A320\" family\n",
    "- Aircraft with fewer sightings than the configured threshold are assigned to the \"Other\" family"
   ]
  },
  {
   "cell_type": "code",
   "execution_count": 1,
   "metadata": {},
   "outputs": [],
   "source": [
    "%run ../pathutils.ipynb\n",
    "%run ../definitions.ipynb\n",
    "%run ../database.ipynb\n",
    "%run ../export.ipynb\n",
    "%run utils.ipynb"
   ]
  },
  {
   "cell_type": "code",
   "execution_count": 2,
   "metadata": {},
   "outputs": [],
   "source": [
    "# Sightings threshold below which aircraft are assigned to a generic \"Other\" group\n",
    "prefix_count_threshold = 100\n",
    "\n",
    "# Sightings threshold below which airlines are excluded from the results\n",
    "sightings_threshold = 50"
   ]
  },
  {
   "cell_type": "code",
   "execution_count": 3,
   "metadata": {},
   "outputs": [],
   "source": [
    "import matplotlib.pyplot as plt\n",
    "import seaborn as sns\n",
    "\n",
    "def export_heatmap(export_folder_path, data):\n",
    "    # Create the heatmap\n",
    "    fig = plt.figure(figsize=(12, 8))\n",
    "    sns.heatmap(data, annot=False, fmt=\"d\", cmap=\"YlOrRd\")\n",
    "\n",
    "    # Set chart properties\n",
    "    plt.title(\"Aircraft Type Sightings by Airline\")\n",
    "    plt.ylabel(\"Airline\")\n",
    "    plt.xlabel(\"Type\")\n",
    "    plt.tight_layout()\n",
    "\n",
    "    # Export the chart\n",
    "    export_chart(export_folder_path, \"airline-aircraft-type-heatmap\", \"png\")\n",
    "\n",
    "    # Close the figure\n",
    "    plt.close(fig)\n"
   ]
  },
  {
   "cell_type": "code",
   "execution_count": 4,
   "metadata": {},
   "outputs": [],
   "source": [
    "# Construct the query\n",
    "query = construct_query(\"aircraft\", \"sightings.sql\", {})\n",
    "\n",
    "try:\n",
    "    # Run the query to load the data - this raises a ValueError if there's no data\n",
    "    df = query_data(\"aircraft\", query)\n",
    "\n",
    "    # Extract an aircraft type prefix for each sighting\n",
    "    df[\"Type\"] = df[\"Model\"].apply(extract_prefix)\n",
    "\n",
    "    # Identify counts by prefix and use them to identify common prefixes\n",
    "    prefix_counts = df[\"Type\"].value_counts()\n",
    "    common_prefixes = prefix_counts[prefix_counts >= prefix_count_threshold].index\n",
    "\n",
    "    # Replace uncommon prefixes with \"Other\"\n",
    "    df[\"Type\"] = df.apply(\n",
    "        lambda row: row[\"Type\"] if row[\"Type\"] in common_prefixes else \"Other\",\n",
    "        axis=1\n",
    "    )\n",
    "\n",
    "    # Pivot the data to create the results for the heatmap\n",
    "    pivot_table = df.pivot_table(\n",
    "        index=\"Airline\",\n",
    "        columns=\"Type\",\n",
    "        values=\"Model\",\n",
    "        aggfunc=\"count\",\n",
    "        fill_value=0\n",
    "    )\n",
    "\n",
    "    # Sort airlines with most aircraft sightings\n",
    "    pivot_table[\"Total\"] = pivot_table.sum(axis=1)\n",
    "    pivot_table = pivot_table.sort_values(by=\"Total\", ascending=False)\n",
    "\n",
    "    # Remove airlines that fall below the sightings threshold\n",
    "    row_indices = pivot_table[pivot_table[\"Total\"] < sightings_threshold].index\n",
    "    pivot_table.drop(row_indices, inplace = True)\n",
    "\n",
    "    # Export the data to excel\n",
    "    export_folder_path = get_export_folder_path()\n",
    "    export_to_spreadsheet(export_folder_path, \"airline-aircraft-type-heatmap.xlsx\", { \"Monthly\": pivot_table })\n",
    "\n",
    "    # Export the heatmap\n",
    "    export_heatmap(export_folder_path, pivot_table)\n",
    "\n",
    "except ValueError:\n",
    "    print(f\"WARNING: No data found\")"
   ]
  }
 ],
 "metadata": {
  "kernelspec": {
   "display_name": "venv (3.13.5)",
   "language": "python",
   "name": "python3"
  },
  "language_info": {
   "codemirror_mode": {
    "name": "ipython",
    "version": 3
   },
   "file_extension": ".py",
   "mimetype": "text/x-python",
   "name": "python",
   "nbconvert_exporter": "python",
   "pygments_lexer": "ipython3",
   "version": "3.13.5"
  },
  "orig_nbformat": 4
 },
 "nbformat": 4,
 "nbformat_minor": 2
}
