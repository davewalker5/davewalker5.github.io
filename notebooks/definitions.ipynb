{
 "cells": [
  {
   "cell_type": "code",
   "execution_count": null,
   "id": "5ed192cf",
   "metadata": {},
   "outputs": [],
   "source": [
    "from pathlib import Path\n",
    "import csv\n",
    "\n",
    "def load_definitions(site):\n",
    "    definitions = []\n",
    "\n",
    "    # Construct the full path to the CSV file and open it\n",
    "    project_root = get_project_root_folder()\n",
    "    definitions_file_path = Path(f\"{project_root}/{site}/data/definitions.csv\").absolute()\n",
    "    with open(definitions_file_path, newline='', encoding='utf-8') as csvfile:\n",
    "        # Create a reader and iterate over the rows\n",
    "        reader = csv.DictReader(csvfile)\n",
    "        for row in reader:\n",
    "            # Create a dictionary representing this row and add it to the list of definitions\n",
    "            definition = {}\n",
    "            for field in reader.fieldnames:\n",
    "                definition[field] = row[field]\n",
    "            definitions.append(definition)\n",
    "\n",
    "    return definitions"
   ]
  }
 ],
 "metadata": {
  "kernelspec": {
   "display_name": "venv (3.13.5)",
   "language": "python",
   "name": "python3"
  },
  "language_info": {
   "codemirror_mode": {
    "name": "ipython",
    "version": 3
   },
   "file_extension": ".py",
   "mimetype": "text/x-python",
   "name": "python",
   "nbconvert_exporter": "python",
   "pygments_lexer": "ipython3",
   "version": "3.13.5"
  }
 },
 "nbformat": 4,
 "nbformat_minor": 5
}
