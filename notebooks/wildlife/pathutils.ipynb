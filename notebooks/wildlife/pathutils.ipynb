{
 "cells": [
  {
   "cell_type": "code",
   "execution_count": null,
   "id": "2ab8143a",
   "metadata": {},
   "outputs": [],
   "source": [
    "from pathlib import Path\n",
    "\n",
    "def get_annual_heatmap_export_folder_path(country, location, category, year):\n",
    "    # Clean up the properties that will be used in the export folder path\n",
    "    clean_country = clean_string(country)\n",
    "    clean_location = clean_string(location)\n",
    "    clean_category = clean_string(category)\n",
    "\n",
    "    # Construct the path to the export folder and create it\n",
    "    project_root = get_project_root_folder()\n",
    "    export_folder_path = Path(f\"{project_root}/wildlife/reports/{clean_country}/heatmap/{year}/{clean_location}/{clean_category}\")\n",
    "    export_folder_path.mkdir(parents=True, exist_ok=True)\n",
    "\n",
    "    # Return the path to the folder\n",
    "    return export_folder_path.absolute()"
   ]
  },
  {
   "cell_type": "code",
   "execution_count": null,
   "id": "79695065",
   "metadata": {},
   "outputs": [],
   "source": [
    "from pathlib import Path\n",
    "\n",
    "def get_annual_trend_export_folder_path(country, location, category):\n",
    "    # Clean up the properties that will be used in the export folder path\n",
    "    clean_country = clean_string(country)\n",
    "    clean_location = clean_string(location)\n",
    "    clean_category = clean_string(category)\n",
    "\n",
    "    # Construct the path to the export folder and create it\n",
    "    project_root = get_project_root_folder()\n",
    "    export_folder_path = Path(f\"{project_root}/wildlife/reports/{clean_country}/trend/{clean_location}/{clean_category}\")\n",
    "    export_folder_path.mkdir(parents=True, exist_ok=True)\n",
    "\n",
    "    # Return the path to the folder\n",
    "    return export_folder_path.absolute()"
   ]
  },
  {
   "cell_type": "code",
   "execution_count": null,
   "id": "0b8e2ca5",
   "metadata": {},
   "outputs": [],
   "source": [
    "from pathlib import Path\n",
    "\n",
    "def get_location_richness_folder_path(country, year):\n",
    "    # Clean up the properties that will be used in the export folder path\n",
    "    clean_country = clean_string(country)\n",
    "\n",
    "    # Construct the path to the export folder and create it\n",
    "    project_root = get_project_root_folder()\n",
    "    export_folder_path = Path(f\"{project_root}/wildlife/reports/{clean_country}/richness/{year}\")\n",
    "    export_folder_path.mkdir(parents=True, exist_ok=True)\n",
    "\n",
    "    # Return the path to the folder\n",
    "    return export_folder_path.absolute()"
   ]
  },
  {
   "cell_type": "code",
   "execution_count": null,
   "id": "609981bd",
   "metadata": {},
   "outputs": [],
   "source": [
    "from pathlib import Path\n",
    "\n",
    "def get_category_composition_folder_path(country, location, category):\n",
    "    # Clean up the properties that will be used in the export folder path\n",
    "    clean_country = clean_string(country)\n",
    "\n",
    "    # Construct the path to the export folder and create it\n",
    "    project_root = get_project_root_folder()\n",
    "    export_folder_path = Path(f\"{project_root}/wildlife/reports/{clean_country}/composition/{location}/{category}\")\n",
    "    export_folder_path.mkdir(parents=True, exist_ok=True)\n",
    "\n",
    "    # Return the path to the folder\n",
    "    return export_folder_path.absolute()"
   ]
  },
  {
   "cell_type": "code",
   "execution_count": null,
   "id": "b918c963",
   "metadata": {},
   "outputs": [],
   "source": [
    "from pathlib import Path\n",
    "\n",
    "def get_abundance_frequency_scatter_folder_path(country, location, category):\n",
    "    # Clean up the properties that will be used in the export folder path\n",
    "    clean_country = clean_string(country)\n",
    "\n",
    "    # Construct the path to the export folder and create it\n",
    "    project_root = get_project_root_folder()\n",
    "    export_folder_path = Path(f\"{project_root}/wildlife/reports/{clean_country}/abundance/{location}/{category}\")\n",
    "    export_folder_path.mkdir(parents=True, exist_ok=True)\n",
    "\n",
    "    # Return the path to the folder\n",
    "    return export_folder_path.absolute()"
   ]
  }
 ],
 "metadata": {
  "kernelspec": {
   "display_name": "venv (3.13.5)",
   "language": "python",
   "name": "python3"
  },
  "language_info": {
   "name": "python",
   "version": "3.13.5"
  }
 },
 "nbformat": 4,
 "nbformat_minor": 5
}
