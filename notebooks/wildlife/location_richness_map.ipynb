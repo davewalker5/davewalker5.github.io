{
 "cells": [
  {
   "attachments": {},
   "cell_type": "markdown",
   "metadata": {},
   "source": [
    "# Species Richness by Location Map\n",
    "\n",
    "This notebook generates and exports an HTML format interactive map of species richness at reported locations."
   ]
  },
  {
   "cell_type": "code",
   "execution_count": 4,
   "metadata": {},
   "outputs": [],
   "source": [
    "%run ../pathutils.ipynb\n",
    "%run ../definitions.ipynb\n",
    "%run ../database.ipynb\n",
    "%run ../export.ipynb\n",
    "%run pathutils.ipynb"
   ]
  },
  {
   "cell_type": "code",
   "execution_count": 5,
   "metadata": {},
   "outputs": [],
   "source": [
    "import folium\n",
    "from folium import CircleMarker\n",
    "from folium.plugins import MarkerCluster\n",
    "from pathlib import Path\n",
    "\n",
    "def export_richness_map(export_folder_path, data, zoom):\n",
    "    # Center map on the average latitude/longitude of all locations\n",
    "    richness_map = folium.Map(\n",
    "        location=[data[\"Latitude\"].mean(), data[\"Longitude\"].mean()],\n",
    "        zoom_start=zoom,\n",
    "        tiles=\"cartodbpositron\"\n",
    "    )\n",
    "\n",
    "    # Cluster markers for many locations\n",
    "    marker_cluster = MarkerCluster().add_to(richness_map)\n",
    "\n",
    "    # Normalize marker size based on richness\n",
    "    max_richness = data[\"Richness\"].max()\n",
    "\n",
    "    for _, row in data.iterrows():\n",
    "        CircleMarker(\n",
    "            location=(row[\"Latitude\"], row[\"Longitude\"]),\n",
    "            radius=5 + 10 * (row[\"Richness\"] / max_richness),  # Size scaled by richness\n",
    "            color=\"blue\",\n",
    "            fill=True,\n",
    "            fill_color=\"green\",\n",
    "            fill_opacity=0.6,\n",
    "            popup=f\"<b>{row['Location']}</b><br>Richness: {row['Richness']}\",\n",
    "        ).add_to(marker_cluster)\n",
    "\n",
    "    # Export the map to HTML\n",
    "    export_file_path = Path(export_folder_path) / \"richness.html\"\n",
    "    richness_map.save(export_file_path.absolute())"
   ]
  },
  {
   "cell_type": "code",
   "execution_count": null,
   "metadata": {},
   "outputs": [],
   "source": [
    "# Default zoom level for the map\n",
    "zoom = 6\n",
    "\n",
    "# Load the definitions\n",
    "definitions = load_definitions(\"wildlife\")\n",
    "richness_definitions = [definition for definition in definitions if definition[\"Report\"].casefold() == \"richness\"]\n",
    "\n",
    "# Iterate over each definition to produce a report for each one\n",
    "for definition in richness_definitions:\n",
    "    for year in range(int(definition[\"From\"]), 1 + int(definition[\"To\"])):\n",
    "        # Construct the query\n",
    "        query = construct_query(\"wildlife\", \"location_richness_map.sql\", {\n",
    "            \"COUNTRY\": definition[\"Country\"],\n",
    "            \"YEAR\": str(year)\n",
    "        })\n",
    "\n",
    "        try:\n",
    "            # Run the query to load the data - this raises a ValueError if there's no data\n",
    "            df = query_data(\"wildlife\", query)\n",
    "\n",
    "            # Make sure the latitude and longitude have been read as numbers, not strings\n",
    "            df[\"Latitude\"] = pd.to_numeric(df[\"Latitude\"], errors=\"coerce\")\n",
    "            df[\"Longitude\"] = pd.to_numeric(df[\"Longitude\"], errors=\"coerce\")\n",
    "\n",
    "            # Calculate the data for the richness chart\n",
    "            richness = (\n",
    "                df.groupby([\"Location\", \"Latitude\", \"Longitude\"])[\"Species\"]\n",
    "                .nunique()\n",
    "                .reset_index()\n",
    "            )\n",
    "\n",
    "            richness.columns = [\"Location\", \"Latitude\", \"Longitude\", \"Richness\"]\n",
    "\n",
    "            # Export the data to Excel\n",
    "            export_folder_path = get_location_richness_folder_path(definition[\"Country\"], year)\n",
    "            export_to_spreadsheet(export_folder_path, \"richness.xlsx\", { \"Location Richness\": richness })\n",
    "\n",
    "            # Export the interactive richness map\n",
    "            export_richness_map(export_folder_path, richness, 6)\n",
    "\n",
    "        except ValueError:\n",
    "            print(f\"WARNING: No data found for location = {definition['Location']}, category = {definition['Category']}\")\n"
   ]
  }
 ],
 "metadata": {
  "kernelspec": {
   "display_name": "venv (3.13.5)",
   "language": "python",
   "name": "python3"
  },
  "language_info": {
   "codemirror_mode": {
    "name": "ipython",
    "version": 3
   },
   "file_extension": ".py",
   "mimetype": "text/x-python",
   "name": "python",
   "nbconvert_exporter": "python",
   "pygments_lexer": "ipython3",
   "version": "3.13.5"
  },
  "orig_nbformat": 4
 },
 "nbformat": 4,
 "nbformat_minor": 2
}
