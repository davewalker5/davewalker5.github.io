{
 "cells": [
  {
   "cell_type": "markdown",
   "id": "ba07e008",
   "metadata": {},
   "source": [
    "# Location List\n",
    "\n",
    "This notebook loads the current list of locations and saves the data as a CSV file"
   ]
  },
  {
   "cell_type": "code",
   "execution_count": 7,
   "id": "af48f5f0",
   "metadata": {},
   "outputs": [],
   "source": [
    "%run ../pathutils.ipynb\n",
    "%run ../database.ipynb\n",
    "%run ../export.ipynb\n",
    "%run database.ipynb\n",
    "%run pathutils.ipynb"
   ]
  },
  {
   "cell_type": "code",
   "execution_count": 8,
   "id": "61f5d3d1",
   "metadata": {
    "tags": [
     "parameters"
    ]
   },
   "outputs": [],
   "source": [
    "country = None\n",
    "location = None\n",
    "category = None\n",
    "year = None"
   ]
  },
  {
   "cell_type": "code",
   "execution_count": 9,
   "id": "a3295f18",
   "metadata": {},
   "outputs": [],
   "source": [
    "locations = load_locations()\n",
    "export_folder_path = get_wildlife_reports_folder_path()\n",
    "export_to_csv(export_folder_path, \"locations.csv\", locations)"
   ]
  }
 ],
 "metadata": {
  "kernelspec": {
   "display_name": "venv",
   "language": "python",
   "name": "python3"
  },
  "language_info": {
   "codemirror_mode": {
    "name": "ipython",
    "version": 3
   },
   "file_extension": ".py",
   "mimetype": "text/x-python",
   "name": "python",
   "nbconvert_exporter": "python",
   "pygments_lexer": "ipython3",
   "version": "3.13.6"
  }
 },
 "nbformat": 4,
 "nbformat_minor": 5
}
