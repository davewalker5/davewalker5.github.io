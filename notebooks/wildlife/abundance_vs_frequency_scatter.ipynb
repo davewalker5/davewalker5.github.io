{
 "cells": [
  {
   "attachments": {},
   "cell_type": "markdown",
   "metadata": {},
   "source": [
    "# Abundance vs Frequency Scatter Plot\n",
    "\n",
    "This notebook generates and exports a scatter plot of abundance vs frequency for all species in a category at a location.\n",
    "\n",
    "| Region on Plot | Interpretation |\n",
    "| --- | --- |\n",
    "| Bottom-left | Rare species — seen infrequently and in low numbers. Could be elusive, migratory, or genuinely uncommon |\n",
    "| Top-right | Common species — seen often and in large numbers. Likely widespread and/or gregarious |\n",
    "| High frequency, low abundance | Species often seen but in small groups or solo (e.g. a bird that’s always alone but spotted often) |\n",
    "| Low frequency, high abundance | Species seen rarely, but in big flocks/groups when they do appear (e.g. irruptive species or migratory flocks) |\n"
   ]
  },
  {
   "cell_type": "code",
   "execution_count": 13,
   "metadata": {},
   "outputs": [],
   "source": [
    "%run ../pathutils.ipynb\n",
    "%run ../definitions.ipynb\n",
    "%run ../database.ipynb\n",
    "%run ../export.ipynb\n",
    "%run pathutils.ipynb"
   ]
  },
  {
   "cell_type": "code",
   "execution_count": 14,
   "metadata": {},
   "outputs": [],
   "source": [
    "import seaborn as sns\n",
    "import matplotlib.pyplot as plt\n",
    "\n",
    "def export_scatter_plot(export_folder_path, data, category):\n",
    "    # Create a new figure\n",
    "    fig = plt.figure(figsize=(10, 6))\n",
    "    sns.scatterplot(data=data, x='Frequency', y='Abundance', hue='Species', s=100)\n",
    "\n",
    "    plt.title(f'Abundance vs Frequency for {category}')\n",
    "    plt.xlabel('Frequency (Number of Sightings)')\n",
    "    plt.ylabel('Abundance (Total Individuals)')\n",
    "    plt.grid(True)\n",
    "\n",
    "    # Move legend below the plot, centered below the plot and with multiple columns\n",
    "    plt.legend(\n",
    "        title='Species',\n",
    "        bbox_to_anchor=(0.5, -0.25),\n",
    "        loc='upper center',\n",
    "        borderaxespad=0,\n",
    "        ncol=3\n",
    "    )\n",
    "\n",
    "    # Export the chart\n",
    "    export_chart(export_folder_path, \"abundance\", \"png\")\n",
    "\n",
    "    # Close the plot\n",
    "    plt.close(fig)"
   ]
  },
  {
   "cell_type": "code",
   "execution_count": 15,
   "metadata": {},
   "outputs": [],
   "source": [
    "# Load the definitions\n",
    "definitions = load_definitions(\"wildlife\")\n",
    "abundance_definitions = [definition for definition in definitions if definition[\"Report\"].casefold() == \"abundance\"]\n",
    "\n",
    "# Iterate over each definition to produce a report for each one\n",
    "for definition in abundance_definitions:\n",
    "    for year in range(int(definition[\"From\"]), 1 + int(definition[\"To\"])):\n",
    "        # Construct the query\n",
    "        query = construct_query(\"wildlife\", \"abundance_vs_frequency_scatter.sql\", {\n",
    "            \"LOCATION\": definition[\"Location\"],\n",
    "            \"CATEGORY\": definition[\"Category\"]\n",
    "        })\n",
    "\n",
    "        try:\n",
    "            # Run the query to load the data - this raises a ValueError if there's no data\n",
    "            df = query_data(\"wildlife\", query)\n",
    "\n",
    "            # Calculate abundance and frequency\n",
    "            scatter_plot = (\n",
    "                df\n",
    "                .groupby(\"Species\")\n",
    "                .agg(\n",
    "                    Abundance=(\"Count\", \"sum\"),\n",
    "                    Frequency=(\"Species\", \"count\")\n",
    "                )\n",
    "                .reset_index()\n",
    "            )\n",
    "\n",
    "            # Export the data to Excel\n",
    "            export_folder_path = get_abundance_frequency_scatter_folder_path(definition[\"Country\"], definition[\"Location\"], definition[\"Category\"])\n",
    "            export_to_spreadsheet(export_folder_path, \"abundance.xlsx\", { \"Abundance vs Frequency\": scatter_plot })\n",
    "\n",
    "            # Export the chart\n",
    "            export_scatter_plot(export_folder_path, scatter_plot, definition[\"Category\"])\n",
    "\n",
    "        except ValueError:\n",
    "            print(f\"WARNING: No data found for location = {definition['Location']}, category = {definition['Category']}\")"
   ]
  }
 ],
 "metadata": {
  "kernelspec": {
   "display_name": "venv (3.13.5)",
   "language": "python",
   "name": "python3"
  },
  "language_info": {
   "codemirror_mode": {
    "name": "ipython",
    "version": 3
   },
   "file_extension": ".py",
   "mimetype": "text/x-python",
   "name": "python",
   "nbconvert_exporter": "python",
   "pygments_lexer": "ipython3",
   "version": "3.13.5"
  },
  "orig_nbformat": 4
 },
 "nbformat": 4,
 "nbformat_minor": 2
}
