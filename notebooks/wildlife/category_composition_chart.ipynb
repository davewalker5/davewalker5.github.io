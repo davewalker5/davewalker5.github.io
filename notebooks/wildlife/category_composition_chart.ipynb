{
 "cells": [
  {
   "attachments": {},
   "cell_type": "markdown",
   "metadata": {},
   "source": [
    "# Category Composition Pie Chart\n",
    "\n",
    "This notebook generates and exports a pie chart showing the composition of a category at a location"
   ]
  },
  {
   "cell_type": "code",
   "execution_count": 10,
   "metadata": {},
   "outputs": [],
   "source": [
    "%run ../pathutils.ipynb\n",
    "%run ../definitions.ipynb\n",
    "%run ../database.ipynb\n",
    "%run ../export.ipynb\n",
    "%run pathutils.ipynb"
   ]
  },
  {
   "cell_type": "code",
   "execution_count": 11,
   "metadata": {},
   "outputs": [],
   "source": [
    "\n",
    "import matplotlib.pyplot as plt\n",
    "\n",
    "def export_composition_chart(export_folder_path, data, category):\n",
    "    # Prepare the data\n",
    "    labels = data.index\n",
    "    sizes = data.values\n",
    "    percentages = sizes / sizes.sum() * 100\n",
    "    legend_labels = [f\"{label} ({pct:.1f}%)\" for label, pct in zip(labels, percentages)]\n",
    "\n",
    "    # Create figure with extra vertical space for legend\n",
    "    fig, ax = plt.subplots(figsize=(8, 8))\n",
    "\n",
    "    wedges, _ = ax.pie(sizes, startangle=90, counterclock=False)\n",
    "\n",
    "    # Equal aspect ratio\n",
    "    ax.set_aspect('equal')\n",
    "    ax.set_title(f\"Composition of '{category}' Category by Species\")\n",
    "\n",
    "    # Remove tight_layout, manually control layout instead\n",
    "    fig.subplots_adjust(bottom=0.3)  # Increase this if needed\n",
    "\n",
    "    # Place legend fully outside the plot\n",
    "    ax.legend(wedges, legend_labels,\n",
    "                title=\"Species\",\n",
    "                loc='upper center',\n",
    "                bbox_to_anchor=(0.5, -0.005),\n",
    "                ncol=3,\n",
    "                frameon=False)\n",
    "\n",
    "    # Export the chart\n",
    "    export_chart(export_folder_path, \"composition\", \"png\")\n",
    "\n",
    "    # ShCloseow the plot\n",
    "    plt.close(fig)"
   ]
  },
  {
   "cell_type": "code",
   "execution_count": null,
   "metadata": {
    "tags": [
     "parameters"
    ]
   },
   "outputs": [],
   "source": [
    "country = None\n",
    "location = None\n",
    "category = None\n",
    "year = None"
   ]
  },
  {
   "cell_type": "code",
   "execution_count": null,
   "metadata": {},
   "outputs": [],
   "source": [
    "# Load the definitions\n",
    "definitions = load_definitions(\"wildlife\", \"composition\", country, location, category, year)\n",
    "\n",
    "# Iterate over each definition to produce a report for each one\n",
    "for definition in definitions:\n",
    "    for year in range(int(definition[\"From\"]), 1 + int(definition[\"To\"])):\n",
    "        # Construct the query\n",
    "        query = construct_query(\"wildlife\", \"category_composition_chart.sql\", {\n",
    "            \"LOCATION\": definition[\"Location\"],\n",
    "            \"CATEGORY\": definition[\"Category\"]\n",
    "        })\n",
    "\n",
    "        try:\n",
    "            # Run the query to load the data - this raises a ValueError if there's no data\n",
    "            df = query_data(\"wildlife\", query)\n",
    "\n",
    "            # Group by species and sum number of individuals\n",
    "            species_counts = df.groupby(\"Species\")[\"Count\"].sum()\n",
    "\n",
    "            # Sort values (optional, for nicer plots)\n",
    "            species_counts = species_counts.sort_values(ascending=False)\n",
    "\n",
    "            # Export the data to Excel\n",
    "            export_folder_path = get_category_composition_folder_path(definition[\"Country\"], definition[\"Location\"], definition[\"Category\"])\n",
    "            export_to_spreadsheet(export_folder_path, \"composition.xlsx\", { \"Category Composition\": species_counts })\n",
    "\n",
    "            # Export the chart\n",
    "            export_composition_chart(export_folder_path, species_counts, definition[\"Category\"])\n",
    "\n",
    "        except ValueError:\n",
    "            print(f\"WARNING: No data found for location = {definition['Location']}, category = {definition['Category']}\")"
   ]
  }
 ],
 "metadata": {
  "kernelspec": {
   "display_name": "venv (3.13.5)",
   "language": "python",
   "name": "python3"
  },
  "language_info": {
   "codemirror_mode": {
    "name": "ipython",
    "version": 3
   },
   "file_extension": ".py",
   "mimetype": "text/x-python",
   "name": "python",
   "nbconvert_exporter": "python",
   "pygments_lexer": "ipython3",
   "version": "3.13.5"
  },
  "orig_nbformat": 4
 },
 "nbformat": 4,
 "nbformat_minor": 2
}
