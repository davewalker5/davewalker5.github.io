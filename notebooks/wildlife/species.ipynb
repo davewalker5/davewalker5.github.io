{
 "cells": [
  {
   "cell_type": "markdown",
   "id": "1378fcf3",
   "metadata": {},
   "source": [
    "# Species List\n",
    "\n",
    "This notebook loads the current list of species and saves the data as a CSV file"
   ]
  },
  {
   "cell_type": "code",
   "execution_count": 1,
   "id": "fb42cd55",
   "metadata": {},
   "outputs": [],
   "source": [
    "%run ../pathutils.ipynb\n",
    "%run ../database.ipynb\n",
    "%run ../export.ipynb\n",
    "%run database.ipynb\n",
    "%run pathutils.ipynb"
   ]
  },
  {
   "cell_type": "code",
   "execution_count": 2,
   "id": "14a4ffe3",
   "metadata": {
    "tags": [
     "parameters"
    ]
   },
   "outputs": [],
   "source": [
    "country = None\n",
    "location = None\n",
    "category = None\n",
    "year = None"
   ]
  },
  {
   "cell_type": "code",
   "execution_count": 3,
   "id": "8f588832",
   "metadata": {},
   "outputs": [],
   "source": [
    "species = load_all_species()\n",
    "export_folder_path = get_wildlife_reports_folder_path()\n",
    "export_to_csv(export_folder_path, \"species.csv\", species)"
   ]
  }
 ],
 "metadata": {
  "kernelspec": {
   "display_name": "venv",
   "language": "python",
   "name": "python3"
  },
  "language_info": {
   "codemirror_mode": {
    "name": "ipython",
    "version": 3
   },
   "file_extension": ".py",
   "mimetype": "text/x-python",
   "name": "python",
   "nbconvert_exporter": "python",
   "pygments_lexer": "ipython3",
   "version": "3.13.6"
  }
 },
 "nbformat": 4,
 "nbformat_minor": 5
}
