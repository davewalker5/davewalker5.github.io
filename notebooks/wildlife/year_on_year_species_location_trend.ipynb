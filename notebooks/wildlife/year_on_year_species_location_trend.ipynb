{
 "cells": [
  {
   "attachments": {},
   "cell_type": "markdown",
   "id": "3c938486",
   "metadata": {},
   "source": [
    "# Year-on-Year Species Trend Chart\n",
    "\n",
    "This notebook generates and exports a year-on-year trend of sightings for a species at a given location."
   ]
  },
  {
   "cell_type": "code",
   "execution_count": null,
   "id": "c6f9b426",
   "metadata": {},
   "outputs": [],
   "source": [
    "%run ../pathutils.ipynb\n",
    "%run ../definitions.ipynb\n",
    "%run ../database.ipynb\n",
    "%run ../export.ipynb\n",
    "%run database.ipynb\n",
    "%run pathutils.ipynb"
   ]
  },
  {
   "cell_type": "code",
   "execution_count": null,
   "id": "d5f01b5b",
   "metadata": {},
   "outputs": [],
   "source": [
    "import matplotlib.pyplot as plt\n",
    "from scipy.stats import linregress\n",
    "\n",
    "def export_trend_chart(export_folder_path, data, filename, species, location):\n",
    "    x = data[\"Year\"]\n",
    "    y = data[\"Count\"]\n",
    "\n",
    "    # Fit linear regression\n",
    "    slope, intercept, *_ = linregress(x, y)\n",
    "    trend_y = intercept + slope * x\n",
    "\n",
    "    # Plot\n",
    "    fig = plt.figure(figsize=(10, 6))\n",
    "\n",
    "    # Bar chart for actual data\n",
    "    plt.bar(x, y, label='Sightings per Year', color='skyblue')\n",
    "\n",
    "    # Trend line over bars\n",
    "    plt.plot(x, trend_y, color='red', linewidth=2, label='Trend Line')\n",
    "\n",
    "    # Set labels and the chart title\n",
    "    plt.title(f\"Year On Year Trends for {species} at {location}\")\n",
    "    plt.xlabel(\"Year\")\n",
    "    plt.ylabel(\"Count\")\n",
    "\n",
    "    # Add the legend and grid lines\n",
    "    plt.legend()\n",
    "    plt.grid(True, linestyle='--', alpha=0.5)\n",
    "    plt.tight_layout()\n",
    "\n",
    "    # Export the chart\n",
    "    export_chart(export_folder_path, filename, \"png\")\n",
    "\n",
    "    # Close the plot\n",
    "    plt.close(fig)"
   ]
  },
  {
   "cell_type": "code",
   "execution_count": null,
   "id": "17166d5c",
   "metadata": {},
   "outputs": [],
   "source": [
    "# Load the definitions\n",
    "definitions = load_definitions(\"wildlife\")\n",
    "trend_definitions = [definition for definition in definitions if definition[\"Report\"].casefold() == \"trend\"]\n",
    "\n",
    "# Iterate over each definition to produce a report for each one\n",
    "for definition in trend_definitions:\n",
    "    # Retrieve the list of species for this category\n",
    "    species_list = load_species(definition[\"Location\"], definition[\"Category\"])\n",
    "\n",
    "    # Iterate over the species in the current category reported at the current location\n",
    "    for species in species_list:\n",
    "        # Construct the query\n",
    "        query = construct_query(\"wildlife\", \"species_year_on_year.sql\", {\n",
    "            \"LOCATION\": definition[\"Location\"],\n",
    "            \"START_YEAR\": definition[\"From\"],\n",
    "            \"END_YEAR\": definition[\"To\"],\n",
    "            \"SPECIES\": species\n",
    "        })\n",
    "\n",
    "        try:\n",
    "            # Run the query to load the data - this raises a ValueError if there's no data\n",
    "            df = query_data(\"wildlife\", query)\n",
    "\n",
    "            # Specifically add a separate \"year\" column to the data frame and aggregate the data\n",
    "            df[\"Year\"] = df[\"Date\"].dt.year\n",
    "            yearly_species_counts = df.groupby([\"Year\", \"Species\"])[\"Count\"].sum().reset_index()\n",
    "\n",
    "            # Export the trend data to Excel\n",
    "            export_folder_path = get_annual_trend_export_folder_path(definition[\"Country\"], definition[\"Location\"], definition[\"Category\"])\n",
    "            clean_species = clean_string(species)\n",
    "            filename = f\"{clean_species}.xlsx\"\n",
    "            export_to_spreadsheet(export_folder_path, filename, { \"Year On Year Trends\": yearly_species_counts })\n",
    "\n",
    "            # Export the chart\n",
    "            export_trend_chart(export_folder_path, yearly_species_counts, clean_species, species, definition[\"Location\"])\n",
    "\n",
    "        except ValueError:\n",
    "            print(f\"WARNING: No data found for location = {definition['Location']}, species = {species}, years = {definition['From']} to {definition['To']}\")\n"
   ]
  }
 ],
 "metadata": {
  "kernelspec": {
   "display_name": "venv (3.13.5)",
   "language": "python",
   "name": "python3"
  },
  "language_info": {
   "codemirror_mode": {
    "name": "ipython",
    "version": 3
   },
   "file_extension": ".py",
   "mimetype": "text/x-python",
   "name": "python",
   "nbconvert_exporter": "python",
   "pygments_lexer": "ipython3",
   "version": "3.13.5"
  }
 },
 "nbformat": 4,
 "nbformat_minor": 5
}
