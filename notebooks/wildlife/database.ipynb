{
 "cells": [
  {
   "cell_type": "code",
   "execution_count": null,
   "metadata": {},
   "outputs": [],
   "source": [
    "def load_species(location, category):\n",
    "    # Construct the query to load the list of species for the location\n",
    "    query = construct_query(\"wildlife\", \"species.sql\", {\n",
    "        \"LOCATION\": location,\n",
    "        \"CATEGORY\": category\n",
    "    })\n",
    "\n",
    "    # Query the database to get a dataframe containing the species list\n",
    "    df = query_data(\"wildlife\", query)\n",
    "\n",
    "    # Convert the species colum to a list\n",
    "    species_list = df[\"Species\"].tolist()\n",
    "    return species_list"
   ]
  },
  {
   "cell_type": "code",
   "execution_count": null,
   "metadata": {},
   "outputs": [],
   "source": [
    "def load_locations():\n",
    "    # Construct the query to load the location list\n",
    "    query = construct_query(\"wildlife\", \"locations.sql\", {})\n",
    "\n",
    "    # Query the database to get a dataframe containing the location list\n",
    "    df = query_data(\"wildlife\", query)\n",
    "\n",
    "    return df"
   ]
  },
  {
   "cell_type": "code",
   "execution_count": null,
   "metadata": {},
   "outputs": [],
   "source": [
    "def load_all_species():\n",
    "    # Construct the query to load the location list\n",
    "    query = construct_query(\"wildlife\", \"all_species.sql\", {})\n",
    "\n",
    "    # Query the database to get a dataframe containing the species list\n",
    "    df = query_data(\"wildlife\", query)\n",
    "\n",
    "    return df"
   ]
  }
 ],
 "metadata": {
  "language_info": {
   "name": "python"
  },
  "orig_nbformat": 4
 },
 "nbformat": 4,
 "nbformat_minor": 2
}
