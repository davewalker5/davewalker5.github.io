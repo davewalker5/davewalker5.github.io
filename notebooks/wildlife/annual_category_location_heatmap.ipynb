{
 "cells": [
  {
   "cell_type": "markdown",
   "id": "28ca77da",
   "metadata": {},
   "source": [
    "# Category-Location Annual Heatmap\n",
    "\n",
    "This notebook generates and exports a heatmap of species sightings for a category for a given location and year."
   ]
  },
  {
   "cell_type": "code",
   "execution_count": 1,
   "id": "2de25c3a",
   "metadata": {},
   "outputs": [],
   "source": [
    "%run ../pathutils.ipynb\n",
    "%run ../definitions.ipynb\n",
    "%run ../database.ipynb\n",
    "%run ../export.ipynb\n",
    "%run pathutils.ipynb"
   ]
  },
  {
   "cell_type": "code",
   "execution_count": 2,
   "id": "a743009b",
   "metadata": {},
   "outputs": [],
   "source": [
    "import seaborn as sns\n",
    "import matplotlib.pyplot as plt\n",
    "\n",
    "def export_heatmap_chart(export_folder_path, data, location, category, year):\n",
    "    # Create a new figure\n",
    "    fig = plt.figure(figsize=(12, data.shape[0] / 3))\n",
    "\n",
    "    # Plot the heatmap\n",
    "    sns.heatmap(data, cmap=\"YlOrRd\", annot=False)\n",
    "\n",
    "    # Set the axis labels\n",
    "    plt.title(f\"Number of Sightings of {category} at {location} in {year}\")\n",
    "    plt.xlabel(\"\")\n",
    "    plt.ylabel(\"\")\n",
    "\n",
    "    # Export the chart\n",
    "    export_chart(export_folder_path, \"heatmap\", \"png\")\n",
    "\n",
    "    # Close the figure\n",
    "    plt.close(fig)"
   ]
  },
  {
   "cell_type": "code",
   "execution_count": null,
   "id": "79315467",
   "metadata": {
    "tags": [
     "parameters"
    ]
   },
   "outputs": [],
   "source": [
    "country = None\n",
    "location = None\n",
    "category = None\n",
    "year = None"
   ]
  },
  {
   "cell_type": "code",
   "execution_count": null,
   "id": "f1827170",
   "metadata": {},
   "outputs": [],
   "source": [
    "import calendar\n",
    "\n",
    "# Load the definitions\n",
    "definitions = load_definitions(\"wildlife\", \"heatmap\", country, location, category, year)\n",
    "\n",
    "# Iterate over each definition to produce a report for each one\n",
    "for definition in definitions:\n",
    "    for year in range(int(definition[\"From\"]), 1 + int(definition[\"To\"])):\n",
    "        # Construct the query\n",
    "        query = construct_query(\"wildlife\", \"annual_category_location_heatmap.sql\", {\n",
    "            \"LOCATION\": definition[\"Location\"],\n",
    "            \"CATEGORY\": definition[\"Category\"],\n",
    "            \"SPECIES\": \"\",\n",
    "            \"YEAR\": str(year)\n",
    "        })\n",
    "\n",
    "        try:\n",
    "            # Run the query to load the data - this raises a ValueError if there's no data\n",
    "            df = query_data(\"wildlife\", query)\n",
    "\n",
    "            # Pre-process the data to provide a heatmap data source\n",
    "            df[\"Month\"] = df[\"Date\"].dt.month\n",
    "            heatmap_data = df.groupby([\"Species\", \"Month\"])[\"Count\"].sum().unstack(fill_value=0)\n",
    "\n",
    "            # Make sure all months are represented even if there are no sightings in the data set for that month\n",
    "            for month in range(1, 13):\n",
    "                if month not in heatmap_data.columns:\n",
    "                    heatmap_data[month] = 0\n",
    "\n",
    "            # Re-order the columns in calendar order\n",
    "            heatmap_data = heatmap_data[sorted(heatmap_data.columns)]\n",
    "\n",
    "            # Set the labels to the month abbreviations rather than month numbers\n",
    "            heatmap_data.columns = [calendar.month_abbr[m] for m in heatmap_data.columns]\n",
    "\n",
    "            # Export the data to Excel\n",
    "            export_folder_path = get_annual_heatmap_export_folder_path(definition[\"Country\"], definition[\"Location\"], definition[\"Category\"], year)\n",
    "            export_to_spreadsheet(export_folder_path, \"heatmap.xlsx\", { \"Sightings\": heatmap_data })\n",
    "\n",
    "            # Export the chart\n",
    "            export_heatmap_chart(export_folder_path, heatmap_data, definition[\"Location\"], definition[\"Category\"], year)\n",
    "\n",
    "        except ValueError:\n",
    "            print(f\"WARNING: No data found for location = {definition['Location']}, category = {definition['Category']}\")\n"
   ]
  }
 ],
 "metadata": {
  "kernelspec": {
   "display_name": "venv (3.13.5)",
   "language": "python",
   "name": "python3"
  },
  "language_info": {
   "codemirror_mode": {
    "name": "ipython",
    "version": 3
   },
   "file_extension": ".py",
   "mimetype": "text/x-python",
   "name": "python",
   "nbconvert_exporter": "python",
   "pygments_lexer": "ipython3",
   "version": "3.13.5"
  }
 },
 "nbformat": 4,
 "nbformat_minor": 5
}
