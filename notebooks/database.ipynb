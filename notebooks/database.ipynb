{
 "cells": [
  {
   "cell_type": "code",
   "execution_count": 1,
   "id": "d5257196",
   "metadata": {},
   "outputs": [],
   "source": [
    "from pathlib import Path\n",
    "import sqlparse\n",
    "\n",
    "def construct_query(site, sql_file, placeholders):\n",
    "    # Read the query file\n",
    "    project_root = get_project_root_folder()\n",
    "    query_file_path = Path(f\"{project_root}/{site}/sql/{sql_file}\").absolute()\n",
    "    with open(query_file_path.absolute(), \"r\") as f:\n",
    "        query = f.read().replace(\"\\n\", \" \")\n",
    "\n",
    "    # Replace all placeholders\n",
    "    for key, value in placeholders.items():\n",
    "        query = query.replace(f\"${key}\", value.replace(\"'\", \"''\"))\n",
    "\n",
    "    # Format the query\n",
    "    query = sqlparse.format(query, reindent=True, keyword_case='upper')\n",
    "\n",
    "    return query"
   ]
  },
  {
   "cell_type": "code",
   "execution_count": null,
   "id": "78cc0485",
   "metadata": {},
   "outputs": [],
   "source": [
    "import pandas as pd\n",
    "import sqlite3\n",
    "import os\n",
    "\n",
    "DB_PATH_VARIABLES = {\n",
    "    \"aircraft\": \"FLIGHT_RECORDER_DB\",\n",
    "    \"wildlife\": \"NATURE_RECORDER_DB\"\n",
    "}\n",
    "\n",
    "def query_data(site, query):\n",
    "    # Connect to the database, execute the query and read the results into a dataframe\n",
    "    database_path = os.environ[DB_PATH_VARIABLES[site]]\n",
    "    connection = sqlite3.connect(database_path)\n",
    "    df = pd.read_sql_query(query, connection, parse_dates=[\"Date\"])\n",
    "\n",
    "    # Check there is some data\n",
    "    if not df.shape[0]:\n",
    "        message = f\"No data found\"\n",
    "        raise ValueError(message)\n",
    "\n",
    "    return df"
   ]
  }
 ],
 "metadata": {
  "kernelspec": {
   "display_name": "venv",
   "language": "python",
   "name": "python3"
  },
  "language_info": {
   "codemirror_mode": {
    "name": "ipython",
    "version": 3
   },
   "file_extension": ".py",
   "mimetype": "text/x-python",
   "name": "python",
   "nbconvert_exporter": "python",
   "pygments_lexer": "ipython3",
   "version": "3.13.5"
  },
  "vscode": {
   "interpreter": {
    "hash": "f8b637eb98c7a8e54e4cf5869cf4cc34691782cc1b73ea38ed099cac7adc4be2"
   }
  }
 },
 "nbformat": 4,
 "nbformat_minor": 5
}
